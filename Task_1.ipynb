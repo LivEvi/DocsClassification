{
 "cells": [
  {
   "cell_type": "markdown",
   "metadata": {},
   "source": [
    "# Задание 2\n",
    "\n",
    "нужно написать функцию, которая принимает две строки и проверяет, входит ли хотя бы одна перестановка второй строки в первую. Например:\n",
    "\n",
    "> a = 'abcrotm'\n",
    "> \n",
    "> b = 'tro'\n",
    "\n",
    "функция def check_inv(a, b) вернет True, так как 'rot' содержится в 'abcrotm'. Нужно подумать как можно более оптимальный алгоритм и оценить его сложность. "
   ]
  },
  {
   "cell_type": "code",
   "execution_count": 2,
   "metadata": {},
   "outputs": [
    {
     "data": {
      "text/plain": [
       "True"
      ]
     },
     "execution_count": 2,
     "metadata": {},
     "output_type": "execute_result"
    }
   ],
   "source": [
    "from itertools import permutations\n",
    "def check_inv(a:str, b:str):\n",
    "    for p in permutations(b):\n",
    "        perms = ''.join(p)\n",
    "        if perms in a:\n",
    "            return True\n",
    "        \n",
    "    return False\n",
    "check_inv('qqqqq', 'q')"
   ]
  },
  {
   "cell_type": "markdown",
   "metadata": {},
   "source": [
    "# Задание 3\n",
    "\n",
    "Реализовать бинарное дерево (класс Tree), в нём методы __repr__, __str__, __iter__ (итерация только по листьям)."
   ]
  },
  {
   "cell_type": "code",
   "execution_count": 5,
   "metadata": {},
   "outputs": [
    {
     "name": "stdout",
     "output_type": "stream",
     "text": [
      "\n",
      "                                 0\n",
      "                 1                 2\n",
      "         3         4"
     ]
    }
   ],
   "source": [
    "class Tree:\n",
    "    def __init__(self, value=None, left=None, right=None):\n",
    "        self.left = left\n",
    "        self.right = right\n",
    "        self.value = value\n",
    "        \n",
    "    def __iter__(self):\n",
    "        if self:\n",
    "            if self.left != None:\n",
    "                for elem in self.left:\n",
    "                    yield elem\n",
    "            else:\n",
    "                yield self.value\n",
    "            if self.right != None:\n",
    "                for elem in self.right:\n",
    "                    yield elem\n",
    "                    \n",
    "    def __str__(self):\n",
    "        thislevel = [self]\n",
    "        a = '                                                                '\n",
    "        while thislevel:\n",
    "            print('')\n",
    "            nextlevel = list()\n",
    "            a = a[:len(a)//2+1]\n",
    "            for n in thislevel:\n",
    "                print (a + str(n.value), end = '')\n",
    "                if n.left: nextlevel.append(n.left)\n",
    "                if n.right: nextlevel.append(n.right)\n",
    "            \n",
    "            thislevel = nextlevel\n",
    "    \n",
    "    def __repr__(self):\n",
    "        return \"tree(%r, %r, %r)\" % (self.value, self.left, self.right)\n",
    "    \n",
    "tree = Tree(0, Tree(1, Tree(3), Tree(4)), Tree(2))\n",
    "list(tree) == [3, 4, 2]\n",
    "tree.__str__()\n"
   ]
  },
  {
   "cell_type": "markdown",
   "metadata": {},
   "source": [
    "# Задание 4\n",
    "\n",
    "Реализовать простейший калькулятор математических выражений:\n",
    "- только целые числа\n",
    "- **+**, **\\-**, **\\***, **\\**\n",
    "- скобки\n",
    "\n",
    "**Можно использовать регулярные выражения**"
   ]
  },
  {
   "cell_type": "code",
   "execution_count": 7,
   "metadata": {},
   "outputs": [
    {
     "data": {
      "text/plain": [
       "True"
      ]
     },
     "execution_count": 7,
     "metadata": {},
     "output_type": "execute_result"
    }
   ],
   "source": [
    "def if_separator(letter:str):\n",
    "    if letter == ' ':\n",
    "        return True\n",
    "    return False\n",
    "\n",
    "def if_operator(letter:str):\n",
    "    if letter in ['+', '-', '*', '/', '(', ')']:\n",
    "        return True\n",
    "    return False\n",
    "\n",
    "def proiritet(letter:str):\n",
    "    if letter == '(':\n",
    "        return 0\n",
    "    if letter == ')':\n",
    "        return 1\n",
    "    if letter == '+':\n",
    "        return 2\n",
    "    if letter == '-':\n",
    "        return 3\n",
    "    if letter == '*':\n",
    "        return 4\n",
    "    if letter == '/':\n",
    "        return 5\n",
    "\n",
    "\n",
    "def count(line:str):\n",
    "    result = 0\n",
    "    temp = []\n",
    "    i = 0\n",
    "    while i < len(line):\n",
    "        if line[i].isdigit():\n",
    "            strokaa = ''\n",
    "            while (if_operator(line[i]) == False) & (if_separator(line[i]) == False):\n",
    "                strokaa += line[i]\n",
    "                i += 1\n",
    "                if i == len(line):\n",
    "                    break\n",
    "            temp.append(strokaa)\n",
    "            i -= 1\n",
    "        if if_operator(line[i]):\n",
    "            a = int(temp.pop(-1))\n",
    "            b = int(temp.pop(-1))\n",
    "            if line[i] == '+':\n",
    "                result = b + a\n",
    "            if line[i] == '-':\n",
    "                result = b - a\n",
    "            if line[i] == '*':\n",
    "                result = b * a\n",
    "            if line[i] == '/':\n",
    "                result = b / a\n",
    "            temp.append(result)\n",
    "        i += 1\n",
    "                \n",
    "    return temp[-1]\n",
    "\n",
    "def get_line(line:str):\n",
    "    stroka = ''\n",
    "    st = []\n",
    "    i = 0\n",
    "    while i < len(line):\n",
    "        \n",
    "        if line[i].isdigit():\n",
    "            while (if_operator(line[i]) == False) & (if_separator(line[i]) == False):\n",
    "                stroka += line[i]\n",
    "                i += 1\n",
    "                if i == len(line):\n",
    "                    break\n",
    "            stroka+=' '\n",
    "            i -= 1\n",
    "        if if_operator(line[i]):\n",
    "            if line[i] == '(':\n",
    "                st += line[i]\n",
    "            elif line[i] == ')':\n",
    "                s = st.pop(-1)\n",
    "                while s != '(':\n",
    "                    stroka += str(s) + ' '\n",
    "                    s = st.pop(-1)\n",
    "            else:\n",
    "                if len(st) > 0:\n",
    "                    if proiritet(line[i]) <= proiritet(st[-1]):\n",
    "                        stroka += str(st.pop(-1)) + ' '\n",
    "                st.append(line[i])\n",
    "        i += 1\n",
    "    while len(st) > 0:\n",
    "        stroka += st.pop(-1) + ' '\n",
    "    return stroka\n",
    "                    \n",
    "def calculate(expr:str):\n",
    "    out = get_line(expr)\n",
    "    result = count(out)\n",
    "    return result\n",
    "\n",
    "\n",
    "calculate('(20 - 2 * 1) * 2 - 4') == 32"
   ]
  },
  {
   "cell_type": "code",
   "execution_count": null,
   "metadata": {},
   "outputs": [],
   "source": []
  },
  {
   "cell_type": "code",
   "execution_count": null,
   "metadata": {},
   "outputs": [],
   "source": []
  },
  {
   "cell_type": "code",
   "execution_count": null,
   "metadata": {},
   "outputs": [],
   "source": []
  },
  {
   "cell_type": "code",
   "execution_count": null,
   "metadata": {},
   "outputs": [],
   "source": []
  },
  {
   "cell_type": "code",
   "execution_count": null,
   "metadata": {},
   "outputs": [],
   "source": []
  },
  {
   "cell_type": "code",
   "execution_count": null,
   "metadata": {},
   "outputs": [],
   "source": []
  },
  {
   "cell_type": "code",
   "execution_count": null,
   "metadata": {},
   "outputs": [],
   "source": []
  }
 ],
 "metadata": {
  "kernelspec": {
   "display_name": "Python 3",
   "language": "python",
   "name": "python3"
  },
  "language_info": {
   "codemirror_mode": {
    "name": "ipython",
    "version": 3
   },
   "file_extension": ".py",
   "mimetype": "text/x-python",
   "name": "python",
   "nbconvert_exporter": "python",
   "pygments_lexer": "ipython3",
   "version": "3.7.6"
  }
 },
 "nbformat": 4,
 "nbformat_minor": 4
}
